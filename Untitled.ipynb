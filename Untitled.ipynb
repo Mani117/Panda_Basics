{
 "cells": [
  {
   "cell_type": "code",
   "execution_count": 1,
   "metadata": {},
   "outputs": [
    {
     "name": "stdout",
     "output_type": "stream",
     "text": [
      "    m   n   o   p   q\n",
      "a   2  16   3   6   8\n",
      "b  23  13   7  19  12\n",
      "c  22  11  14   4   0\n",
      "d  17  24   5  21  10\n",
      "e   9  18   1  15  20\n",
      "    m   n  o   p   q\n",
      "a   2  16  3   6   8\n",
      "b  23  13  7  19  12\n",
      "d  17  24  5  21  10\n",
      "e   9  18  1  15  20\n"
     ]
    }
   ],
   "source": [
    "import pandas as pd\n",
    "import numpy as np\n",
    "from random import shuffle\n",
    "\n",
    "x = [i for i in range(25)]\n",
    "shuffle(x)\n",
    "x = np.array(x)\n",
    "df = pd.DataFrame(x.reshape(5,5),index = list(\"abcde\"), columns = list(\"mnopq\"))\n",
    "df2 = pd.Series(x[:10],index = list(\"asdfghjklp\"))\n",
    "print(df)\n",
    "#print(df[\"n\"].values)\n",
    "#print(df[df>7])\n",
    "print(df[df['n']>12])\n",
    "\n",
    "#y = [ i for i in range(7)]\n",
    "#print(y[[2,1]])"
   ]
  },
  {
   "cell_type": "markdown",
   "metadata": {},
   "source": [
    "## "
   ]
  },
  {
   "cell_type": "code",
   "execution_count": 2,
   "metadata": {},
   "outputs": [
    {
     "name": "stdout",
     "output_type": "stream",
     "text": [
      "  apple ball\n",
      "m     a    e\n",
      "n     b    f\n",
      "o     c    g\n",
      "p     d    h\n",
      "  apple ball class\n",
      "m     a    e     7\n",
      "n     b    f     5\n",
      "o     c    g     5\n",
      "p     d    h     2\n"
     ]
    }
   ],
   "source": [
    "df3 = pd.DataFrame({\"apple\":list(\"abcd\"),\"ball\":list(\"efgh\")}, index = list(\"mnop\"))\n",
    "print(df3)\n",
    "df3[\"class\"] = list(\"7552\")\n",
    "print(df3)"
   ]
  },
  {
   "cell_type": "code",
   "execution_count": 3,
   "metadata": {
    "scrolled": true
   },
   "outputs": [
    {
     "name": "stdout",
     "output_type": "stream",
     "text": [
      "[1 1 3 0 1 4 2 0 2 0 3 4 3 2 0 0 3 1 4 0 1 0 0 0 4]\n",
      "IntervalIndex([[14.0, 30.8), [30.8, 47.6), [47.6, 64.4), [64.4, 81.2), [81.2, 98.08)]\n",
      "              closed='left',\n",
      "              dtype='interval[float64]')\n",
      "[14.0, 30.8)     9\n",
      "[30.8, 47.6)     5\n",
      "[81.2, 98.08)    4\n",
      "[64.4, 81.2)     4\n",
      "[47.6, 64.4)     3\n",
      "dtype: int64\n",
      "[c, c, d, b, c, ..., c, a, b, b, e]\n",
      "Length: 25\n",
      "Categories (5, object): [a < b < c < d < e]\n",
      "[2 2 3 1 2 4 3 1 3 0 3 4 3 2 0 0 4 1 4 0 2 0 1 1 4]\n",
      "Index(['a', 'b', 'c', 'd', 'e'], dtype='object')\n",
      "e    5\n",
      "d    5\n",
      "c    5\n",
      "b    5\n",
      "a    5\n",
      "dtype: int64\n"
     ]
    }
   ],
   "source": [
    "## Binning Data\n",
    "\n",
    "\n",
    "x = list([45,35,69,21,47,85,61,24,56,14,75,95,65,48,19,15,79,32,86,14,35,15,27,25,98])\n",
    "y = [i for i in range(0,102,10)]\n",
    "#bin = pd.cut(x,y, labels = list(\"abcdefghij\"))\n",
    "bin = pd.cut(x,5,precision = 2, right = False)\n",
    "print(bin.codes)\n",
    "print(bin.categories)\n",
    "print(pd.value_counts(bin))\n",
    "qbin = pd.qcut(x,5,labels = list(\"abcde\"))\n",
    "print(qbin)\n",
    "print(qbin.codes)\n",
    "print(qbin.categories)\n",
    "print(pd.value_counts(qbin))"
   ]
  },
  {
   "cell_type": "code",
   "execution_count": 15,
   "metadata": {
    "scrolled": true
   },
   "outputs": [
    {
     "name": "stdout",
     "output_type": "stream",
     "text": [
      "307   -3.0\n",
      "471   -3.0\n",
      "Name: 2, dtype: float64\n",
      "False\n"
     ]
    }
   ],
   "source": [
    "## Detecting outlier and filtering\n",
    "\n",
    "k = pd.DataFrame(np.random.randn(4,1000))\n",
    "k.head()\n",
    "k.T.describe()\n",
    "\n",
    "l = pd.DataFrame(np.random.randn(1000,4))\n",
    "# For finding some outliers\n",
    "np.abs(l[2])>3           ## Taking abs of column 2 and cheking if greater than 3. Returns column 2 with T/F\n",
    "l[np.abs(l[2])>3]        ## Only rows with above True is printed\n",
    "l[3][np.abs(l[3])>3]     ## In column 3, checks which location have value greater than 3\n",
    "np.abs(l)>3              ## It gives the matrix with False where condition is false and True for true \n",
    "np.abs(l).any(1)         ## any of pandas checks whether all data is true or not. By default axis=0. any(axis=1)\n",
    "l[np.abs(l)>3]           ## It gives the matrix with NaN where condition is false and data itself for true \n",
    "l[(np.abs(l)>3).any(1)]  ## Give rows of data with any of them satisfying the condition\n",
    "l[np.abs(l)>3] = np.sign(l)*3  ## Assigning value 3 with sign to  any value satisfying the condition\n",
    "l[(np.abs(l) == 3)]      ##Printing all values of matrix, giving NaN for others\n",
    "l[(np.abs(l) == 3)][2]   ## First checking complete matrix and then taking only 3rd(2) row from it\n",
    "l[(np.abs(l[2]) == 3)]   ## Condition checked only on row 3 and all True ones are returned\n",
    "l[(np.abs(l[2]) == 3)][1]     ##Checks column 3(2) and for all values true, their column 3(2) is returned\n",
    "print(l[2][(np.abs(l[2]) == 3)])   ##\n",
    "np.sign(l)               ## Returns matrix with values beign signs of data i.e. (+1/-1)\n",
    "\n",
    "\n",
    "df = pd.DataFrame()\n",
    "\n",
    "df['x'] = [1,2,3]\n",
    "df['y'] = [3,4,5]\n",
    "print(any(df['x']>df['y']))\n",
    "\n",
    "\n",
    "\n",
    "#Permutation and Random Sampling"
   ]
  },
  {
   "cell_type": "code",
   "execution_count": null,
   "metadata": {},
   "outputs": [],
   "source": []
  }
 ],
 "metadata": {
  "kernelspec": {
   "display_name": "Python 3",
   "language": "python",
   "name": "python3"
  },
  "language_info": {
   "codemirror_mode": {
    "name": "ipython",
    "version": 3
   },
   "file_extension": ".py",
   "mimetype": "text/x-python",
   "name": "python",
   "nbconvert_exporter": "python",
   "pygments_lexer": "ipython3",
   "version": "3.6.5"
  }
 },
 "nbformat": 4,
 "nbformat_minor": 2
}
